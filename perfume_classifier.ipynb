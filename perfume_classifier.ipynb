{
  "metadata": {
    "kernelspec": {
      "language": "python",
      "display_name": "Python 3",
      "name": "python3"
    },
    "language_info": {
      "name": "python",
      "version": "3.7.12",
      "mimetype": "text/x-python",
      "codemirror_mode": {
        "name": "ipython",
        "version": 3
      },
      "pygments_lexer": "ipython3",
      "nbconvert_exporter": "python",
      "file_extension": ".py"
    },
    "colab": {
      "provenance": []
    }
  },
  "nbformat_minor": 0,
  "nbformat": 4,
  "cells": [
    {
      "cell_type": "markdown",
      "source": [
        "# Perfume Classifier"
      ],
      "metadata": {
        "id": "gLXKEhNytc1u"
      }
    },
    {
      "cell_type": "markdown",
      "source": [
        "First, we import the necessary libraries required to create our model."
      ],
      "metadata": {
        "id": "Hj78TGHZtc14"
      }
    },
    {
      "cell_type": "code",
      "source": [
        "import numpy as np\n",
        "import pandas as pd\n",
        "import matplotlib.pyplot as plt\n",
        "import seaborn as sns\n",
        "\n",
        "from sklearn.preprocessing import LabelEncoder\n",
        "from sklearn.model_selection import train_test_split\n",
        "from sklearn.metrics import accuracy_score, confusion_matrix\n",
        "from sklearn.tree import DecisionTreeClassifier\n",
        "from sklearn.ensemble import RandomForestClassifier"
      ],
      "metadata": {
        "_uuid": "8f2839f25d086af736a60e9eeb907d3b93b6e0e5",
        "_cell_guid": "b1076dfc-b9ad-4769-8c92-a6c4dae69d19",
        "execution": {
          "iopub.status.busy": "2023-09-12T09:22:38.720479Z",
          "iopub.execute_input": "2023-09-12T09:22:38.721017Z",
          "iopub.status.idle": "2023-09-12T09:22:39.790775Z",
          "shell.execute_reply.started": "2023-09-12T09:22:38.720916Z",
          "shell.execute_reply": "2023-09-12T09:22:39.789790Z"
        },
        "trusted": true,
        "id": "FiPBx-B2tc15"
      },
      "execution_count": null,
      "outputs": []
    },
    {
      "cell_type": "code",
      "source": [
        "import warnings\n",
        "warnings.filterwarnings('ignore',category = DeprecationWarning)\n",
        "warnings.filterwarnings('ignore',category = UserWarning)\n",
        "warnings.filterwarnings('ignore',category = RuntimeWarning)\n",
        "warnings.filterwarnings('ignore',category = FutureWarning)\n",
        ""
      ],
      "metadata": {
        "execution": {
          "iopub.status.busy": "2023-09-12T09:22:39.796060Z",
          "iopub.execute_input": "2023-09-12T09:22:39.796904Z",
          "iopub.status.idle": "2023-09-12T09:22:39.804188Z",
          "shell.execute_reply.started": "2023-09-12T09:22:39.796853Z",
          "shell.execute_reply": "2023-09-12T09:22:39.802688Z"
        },
        "trusted": true,
        "id": "HNEU3fbjtc18"
      },
      "execution_count": null,
      "outputs": []
    },
    {
      "cell_type": "markdown",
      "source": [
        "Reading our dataset."
      ],
      "metadata": {
        "id": "yikkejeEtc1-"
      }
    },
    {
      "cell_type": "code",
      "source": [
        "perfume_df = pd.read_excel('dataset.xlsx')\n",
        "perfume_df"
      ],
      "metadata": {
        "execution": {
          "iopub.status.busy": "2023-09-12T09:22:39.805979Z",
          "iopub.execute_input": "2023-09-12T09:22:39.806919Z",
          "iopub.status.idle": "2023-09-12T09:22:40.264310Z",
          "shell.execute_reply.started": "2023-09-12T09:22:39.806872Z",
          "shell.execute_reply": "2023-09-12T09:22:40.262916Z"
        },
        "trusted": true,
        "id": "RnMmnEA6tc1_",
        "outputId": "e9e62b0a-286b-4d47-b37c-646ac45158ee"
      },
      "execution_count": null,
      "outputs": [
        {
          "execution_count": 3,
          "output_type": "execute_result",
          "data": {
            "text/plain": "              ajayeb  64558  64556  64543  64543.1  64541  64543.2  64543.3  \\\n0              ajmal  60502  60489  61485    60487  61485    61513    60515   \n1             amreaj  57040  57040  57040    58041  58041    58041    58041   \n2               aood  71083  72087  71091    71095  71099    72103    71099   \n3          asgar_ali  68209  68209  68216    68216  68223    68223    68223   \n4            bukhoor  71046  71046  71046    71046  71046    71046    71046   \n5          burberrry  61096  61096  60093    60092  60093    60093    61096   \n6         dehenalaod  68132  69137  69137    68137  68137    69142    69142   \n7             junaid  71590  71575  71574    71560  71560    71559    72573   \n8             kausar  74631  74649  74650    74650  74650    74632    74632   \n9               rose  62999  62999  62999    62999  62999    62999    61999   \n10         solidmusk  46014  46014  46014    46014  46014    46015    46015   \n11        TeaTreeOil  82394  82382  82383    82372  82382    82372    82416   \n12         raspberry  78999  78999  78999    78999  79999    78999    78999   \n13          RoseMusk  85056  85056  85056    85056  85056    85056    85056   \n14        strawberry  71999  71999  71999    70999  71999    71999    71999   \n15      constrected2  66805  65808  65808    66805  66805    65785    65785   \n16  carolina_herrera  63076  63072  64072    64068  63065    64065    65064   \n17   oudh_ma'alattar  67197  67197  67204    67210  67204    67204    67210   \n18       constrected  65151  66151  66151    66151  65146    66151    65146   \n\n    64541.1  64541.2  ...  64541.8  64541.9  64541.10  64541.11  64541.12  \\\n0     60500    60500  ...    60472    60472     60461     61470     60487   \n1     57042    57042  ...    58041    58041     58041     58041     58041   \n2     72099    72099  ...    72095    71095     71095     72103     71103   \n3     68223    68230  ...    68230    67224     67217     67217     68223   \n4     71046    71046  ...    70049    70049     70049     70048     70049   \n5     61096    61096  ...    60089    60089     60089     60092     60089   \n6     68137    68137  ...    69142    69142     69142     69142     69142   \n7     71559    71559  ...    72557    72556     72556     72557     72556   \n8     74632    73633  ...    73617    73585     73584     73600     73601   \n9     62999    62999  ...    62999    62999     62999     62999     62999   \n10    46015    46015  ...    46015    46015     46015     46015     46015   \n11    82440    82428  ...    82383    82383     82394     82394     82394   \n12    78999    79999  ...    79999    78999     79999     79999     79999   \n13    85056    85056  ...    85056    85056     85056     85056     85056   \n14    71999    71999  ...    71999    70999     71999     71999     71999   \n15    65785    65785  ...    66722    67736     66719     66719     66701   \n16    64061    65061  ...    65055    66054     66054     65055     65055   \n17    67210    67210  ...    66198    66204     67211     66204     67217   \n18    65146    65146  ...    66145    66145     66145     66145     66145   \n\n    64541.13  64528.2  64528.3  64528.4  64528.5  \n0      60487    61485    60487    60472    60472  \n1      58041    58041    58041    58041    58041  \n2      71103    71103    72103    72103    72098  \n3      68223    68223    68223    68223    68230  \n4      70048    70046    70046    70048    71048  \n5      60089    60089    61088    61088    60089  \n6      68137    69137    69137    69137    69136  \n7      72542    72542    72556    72556    72556  \n8      73601    73585    73585    73585    73585  \n9      61999    62999    62999    62999    61999  \n10     46015    46015    46015    46015    46015  \n11     82394    82383    83382    82372    82361  \n12     79999    79999    79999    78999    78999  \n13     85056    85056    85056    85056    85056  \n14     70999    70999    70999    70999    70999  \n15     66701    67717    66701    66698    66698  \n16     64055    63052    64052    63052    63052  \n17     66211    66212    66211    66211    67218  \n18     66145    66145    66145    66145    66150  \n\n[19 rows x 29 columns]",
            "text/html": "<div>\n<style scoped>\n    .dataframe tbody tr th:only-of-type {\n        vertical-align: middle;\n    }\n\n    .dataframe tbody tr th {\n        vertical-align: top;\n    }\n\n    .dataframe thead th {\n        text-align: right;\n    }\n</style>\n<table border=\"1\" class=\"dataframe\">\n  <thead>\n    <tr style=\"text-align: right;\">\n      <th></th>\n      <th>ajayeb</th>\n      <th>64558</th>\n      <th>64556</th>\n      <th>64543</th>\n      <th>64543.1</th>\n      <th>64541</th>\n      <th>64543.2</th>\n      <th>64543.3</th>\n      <th>64541.1</th>\n      <th>64541.2</th>\n      <th>...</th>\n      <th>64541.8</th>\n      <th>64541.9</th>\n      <th>64541.10</th>\n      <th>64541.11</th>\n      <th>64541.12</th>\n      <th>64541.13</th>\n      <th>64528.2</th>\n      <th>64528.3</th>\n      <th>64528.4</th>\n      <th>64528.5</th>\n    </tr>\n  </thead>\n  <tbody>\n    <tr>\n      <th>0</th>\n      <td>ajmal</td>\n      <td>60502</td>\n      <td>60489</td>\n      <td>61485</td>\n      <td>60487</td>\n      <td>61485</td>\n      <td>61513</td>\n      <td>60515</td>\n      <td>60500</td>\n      <td>60500</td>\n      <td>...</td>\n      <td>60472</td>\n      <td>60472</td>\n      <td>60461</td>\n      <td>61470</td>\n      <td>60487</td>\n      <td>60487</td>\n      <td>61485</td>\n      <td>60487</td>\n      <td>60472</td>\n      <td>60472</td>\n    </tr>\n    <tr>\n      <th>1</th>\n      <td>amreaj</td>\n      <td>57040</td>\n      <td>57040</td>\n      <td>57040</td>\n      <td>58041</td>\n      <td>58041</td>\n      <td>58041</td>\n      <td>58041</td>\n      <td>57042</td>\n      <td>57042</td>\n      <td>...</td>\n      <td>58041</td>\n      <td>58041</td>\n      <td>58041</td>\n      <td>58041</td>\n      <td>58041</td>\n      <td>58041</td>\n      <td>58041</td>\n      <td>58041</td>\n      <td>58041</td>\n      <td>58041</td>\n    </tr>\n    <tr>\n      <th>2</th>\n      <td>aood</td>\n      <td>71083</td>\n      <td>72087</td>\n      <td>71091</td>\n      <td>71095</td>\n      <td>71099</td>\n      <td>72103</td>\n      <td>71099</td>\n      <td>72099</td>\n      <td>72099</td>\n      <td>...</td>\n      <td>72095</td>\n      <td>71095</td>\n      <td>71095</td>\n      <td>72103</td>\n      <td>71103</td>\n      <td>71103</td>\n      <td>71103</td>\n      <td>72103</td>\n      <td>72103</td>\n      <td>72098</td>\n    </tr>\n    <tr>\n      <th>3</th>\n      <td>asgar_ali</td>\n      <td>68209</td>\n      <td>68209</td>\n      <td>68216</td>\n      <td>68216</td>\n      <td>68223</td>\n      <td>68223</td>\n      <td>68223</td>\n      <td>68223</td>\n      <td>68230</td>\n      <td>...</td>\n      <td>68230</td>\n      <td>67224</td>\n      <td>67217</td>\n      <td>67217</td>\n      <td>68223</td>\n      <td>68223</td>\n      <td>68223</td>\n      <td>68223</td>\n      <td>68223</td>\n      <td>68230</td>\n    </tr>\n    <tr>\n      <th>4</th>\n      <td>bukhoor</td>\n      <td>71046</td>\n      <td>71046</td>\n      <td>71046</td>\n      <td>71046</td>\n      <td>71046</td>\n      <td>71046</td>\n      <td>71046</td>\n      <td>71046</td>\n      <td>71046</td>\n      <td>...</td>\n      <td>70049</td>\n      <td>70049</td>\n      <td>70049</td>\n      <td>70048</td>\n      <td>70049</td>\n      <td>70048</td>\n      <td>70046</td>\n      <td>70046</td>\n      <td>70048</td>\n      <td>71048</td>\n    </tr>\n    <tr>\n      <th>5</th>\n      <td>burberrry</td>\n      <td>61096</td>\n      <td>61096</td>\n      <td>60093</td>\n      <td>60092</td>\n      <td>60093</td>\n      <td>60093</td>\n      <td>61096</td>\n      <td>61096</td>\n      <td>61096</td>\n      <td>...</td>\n      <td>60089</td>\n      <td>60089</td>\n      <td>60089</td>\n      <td>60092</td>\n      <td>60089</td>\n      <td>60089</td>\n      <td>60089</td>\n      <td>61088</td>\n      <td>61088</td>\n      <td>60089</td>\n    </tr>\n    <tr>\n      <th>6</th>\n      <td>dehenalaod</td>\n      <td>68132</td>\n      <td>69137</td>\n      <td>69137</td>\n      <td>68137</td>\n      <td>68137</td>\n      <td>69142</td>\n      <td>69142</td>\n      <td>68137</td>\n      <td>68137</td>\n      <td>...</td>\n      <td>69142</td>\n      <td>69142</td>\n      <td>69142</td>\n      <td>69142</td>\n      <td>69142</td>\n      <td>68137</td>\n      <td>69137</td>\n      <td>69137</td>\n      <td>69137</td>\n      <td>69136</td>\n    </tr>\n    <tr>\n      <th>7</th>\n      <td>junaid</td>\n      <td>71590</td>\n      <td>71575</td>\n      <td>71574</td>\n      <td>71560</td>\n      <td>71560</td>\n      <td>71559</td>\n      <td>72573</td>\n      <td>71559</td>\n      <td>71559</td>\n      <td>...</td>\n      <td>72557</td>\n      <td>72556</td>\n      <td>72556</td>\n      <td>72557</td>\n      <td>72556</td>\n      <td>72542</td>\n      <td>72542</td>\n      <td>72556</td>\n      <td>72556</td>\n      <td>72556</td>\n    </tr>\n    <tr>\n      <th>8</th>\n      <td>kausar</td>\n      <td>74631</td>\n      <td>74649</td>\n      <td>74650</td>\n      <td>74650</td>\n      <td>74650</td>\n      <td>74632</td>\n      <td>74632</td>\n      <td>74632</td>\n      <td>73633</td>\n      <td>...</td>\n      <td>73617</td>\n      <td>73585</td>\n      <td>73584</td>\n      <td>73600</td>\n      <td>73601</td>\n      <td>73601</td>\n      <td>73585</td>\n      <td>73585</td>\n      <td>73585</td>\n      <td>73585</td>\n    </tr>\n    <tr>\n      <th>9</th>\n      <td>rose</td>\n      <td>62999</td>\n      <td>62999</td>\n      <td>62999</td>\n      <td>62999</td>\n      <td>62999</td>\n      <td>62999</td>\n      <td>61999</td>\n      <td>62999</td>\n      <td>62999</td>\n      <td>...</td>\n      <td>62999</td>\n      <td>62999</td>\n      <td>62999</td>\n      <td>62999</td>\n      <td>62999</td>\n      <td>61999</td>\n      <td>62999</td>\n      <td>62999</td>\n      <td>62999</td>\n      <td>61999</td>\n    </tr>\n    <tr>\n      <th>10</th>\n      <td>solidmusk</td>\n      <td>46014</td>\n      <td>46014</td>\n      <td>46014</td>\n      <td>46014</td>\n      <td>46014</td>\n      <td>46015</td>\n      <td>46015</td>\n      <td>46015</td>\n      <td>46015</td>\n      <td>...</td>\n      <td>46015</td>\n      <td>46015</td>\n      <td>46015</td>\n      <td>46015</td>\n      <td>46015</td>\n      <td>46015</td>\n      <td>46015</td>\n      <td>46015</td>\n      <td>46015</td>\n      <td>46015</td>\n    </tr>\n    <tr>\n      <th>11</th>\n      <td>TeaTreeOil</td>\n      <td>82394</td>\n      <td>82382</td>\n      <td>82383</td>\n      <td>82372</td>\n      <td>82382</td>\n      <td>82372</td>\n      <td>82416</td>\n      <td>82440</td>\n      <td>82428</td>\n      <td>...</td>\n      <td>82383</td>\n      <td>82383</td>\n      <td>82394</td>\n      <td>82394</td>\n      <td>82394</td>\n      <td>82394</td>\n      <td>82383</td>\n      <td>83382</td>\n      <td>82372</td>\n      <td>82361</td>\n    </tr>\n    <tr>\n      <th>12</th>\n      <td>raspberry</td>\n      <td>78999</td>\n      <td>78999</td>\n      <td>78999</td>\n      <td>78999</td>\n      <td>79999</td>\n      <td>78999</td>\n      <td>78999</td>\n      <td>78999</td>\n      <td>79999</td>\n      <td>...</td>\n      <td>79999</td>\n      <td>78999</td>\n      <td>79999</td>\n      <td>79999</td>\n      <td>79999</td>\n      <td>79999</td>\n      <td>79999</td>\n      <td>79999</td>\n      <td>78999</td>\n      <td>78999</td>\n    </tr>\n    <tr>\n      <th>13</th>\n      <td>RoseMusk</td>\n      <td>85056</td>\n      <td>85056</td>\n      <td>85056</td>\n      <td>85056</td>\n      <td>85056</td>\n      <td>85056</td>\n      <td>85056</td>\n      <td>85056</td>\n      <td>85056</td>\n      <td>...</td>\n      <td>85056</td>\n      <td>85056</td>\n      <td>85056</td>\n      <td>85056</td>\n      <td>85056</td>\n      <td>85056</td>\n      <td>85056</td>\n      <td>85056</td>\n      <td>85056</td>\n      <td>85056</td>\n    </tr>\n    <tr>\n      <th>14</th>\n      <td>strawberry</td>\n      <td>71999</td>\n      <td>71999</td>\n      <td>71999</td>\n      <td>70999</td>\n      <td>71999</td>\n      <td>71999</td>\n      <td>71999</td>\n      <td>71999</td>\n      <td>71999</td>\n      <td>...</td>\n      <td>71999</td>\n      <td>70999</td>\n      <td>71999</td>\n      <td>71999</td>\n      <td>71999</td>\n      <td>70999</td>\n      <td>70999</td>\n      <td>70999</td>\n      <td>70999</td>\n      <td>70999</td>\n    </tr>\n    <tr>\n      <th>15</th>\n      <td>constrected2</td>\n      <td>66805</td>\n      <td>65808</td>\n      <td>65808</td>\n      <td>66805</td>\n      <td>66805</td>\n      <td>65785</td>\n      <td>65785</td>\n      <td>65785</td>\n      <td>65785</td>\n      <td>...</td>\n      <td>66722</td>\n      <td>67736</td>\n      <td>66719</td>\n      <td>66719</td>\n      <td>66701</td>\n      <td>66701</td>\n      <td>67717</td>\n      <td>66701</td>\n      <td>66698</td>\n      <td>66698</td>\n    </tr>\n    <tr>\n      <th>16</th>\n      <td>carolina_herrera</td>\n      <td>63076</td>\n      <td>63072</td>\n      <td>64072</td>\n      <td>64068</td>\n      <td>63065</td>\n      <td>64065</td>\n      <td>65064</td>\n      <td>64061</td>\n      <td>65061</td>\n      <td>...</td>\n      <td>65055</td>\n      <td>66054</td>\n      <td>66054</td>\n      <td>65055</td>\n      <td>65055</td>\n      <td>64055</td>\n      <td>63052</td>\n      <td>64052</td>\n      <td>63052</td>\n      <td>63052</td>\n    </tr>\n    <tr>\n      <th>17</th>\n      <td>oudh_ma'alattar</td>\n      <td>67197</td>\n      <td>67197</td>\n      <td>67204</td>\n      <td>67210</td>\n      <td>67204</td>\n      <td>67204</td>\n      <td>67210</td>\n      <td>67210</td>\n      <td>67210</td>\n      <td>...</td>\n      <td>66198</td>\n      <td>66204</td>\n      <td>67211</td>\n      <td>66204</td>\n      <td>67217</td>\n      <td>66211</td>\n      <td>66212</td>\n      <td>66211</td>\n      <td>66211</td>\n      <td>67218</td>\n    </tr>\n    <tr>\n      <th>18</th>\n      <td>constrected</td>\n      <td>65151</td>\n      <td>66151</td>\n      <td>66151</td>\n      <td>66151</td>\n      <td>65146</td>\n      <td>66151</td>\n      <td>65146</td>\n      <td>65146</td>\n      <td>65146</td>\n      <td>...</td>\n      <td>66145</td>\n      <td>66145</td>\n      <td>66145</td>\n      <td>66145</td>\n      <td>66145</td>\n      <td>66145</td>\n      <td>66145</td>\n      <td>66145</td>\n      <td>66145</td>\n      <td>66150</td>\n    </tr>\n  </tbody>\n</table>\n<p>19 rows × 29 columns</p>\n</div>"
          },
          "metadata": {}
        }
      ]
    },
    {
      "cell_type": "markdown",
      "source": [
        "Obtaining the dimensions of our dataset and making some modifications."
      ],
      "metadata": {
        "id": "nZsdkqantc2C"
      }
    },
    {
      "cell_type": "code",
      "source": [
        "perfume_df.shape"
      ],
      "metadata": {
        "execution": {
          "iopub.status.busy": "2023-09-12T09:22:40.267632Z",
          "iopub.execute_input": "2023-09-12T09:22:40.268775Z",
          "iopub.status.idle": "2023-09-12T09:22:40.278036Z",
          "shell.execute_reply.started": "2023-09-12T09:22:40.268723Z",
          "shell.execute_reply": "2023-09-12T09:22:40.276765Z"
        },
        "trusted": true,
        "id": "EvB9kWTytc2D",
        "outputId": "75308bf2-f77f-41d3-81cc-292dead8c93e"
      },
      "execution_count": null,
      "outputs": [
        {
          "execution_count": 4,
          "output_type": "execute_result",
          "data": {
            "text/plain": "(19, 29)"
          },
          "metadata": {}
        }
      ]
    },
    {
      "cell_type": "code",
      "source": [
        "perfume_df['perfume'] = perfume_df['ajayeb']\n",
        "perfume_df = perfume_df.drop(['ajayeb'], axis=1)\n",
        "perfume_df\n",
        "\n",
        ""
      ],
      "metadata": {
        "execution": {
          "iopub.status.busy": "2023-09-12T09:22:40.279622Z",
          "iopub.execute_input": "2023-09-12T09:22:40.281043Z",
          "iopub.status.idle": "2023-09-12T09:22:40.324050Z",
          "shell.execute_reply.started": "2023-09-12T09:22:40.280991Z",
          "shell.execute_reply": "2023-09-12T09:22:40.322828Z"
        },
        "trusted": true,
        "id": "nRs-4buetc2F",
        "outputId": "156b3435-49b2-4042-b6c3-9973001ff034"
      },
      "execution_count": null,
      "outputs": [
        {
          "execution_count": 5,
          "output_type": "execute_result",
          "data": {
            "text/plain": "    64558  64556  64543  64543.1  64541  64543.2  64543.3  64541.1  64541.2  \\\n0   60502  60489  61485    60487  61485    61513    60515    60500    60500   \n1   57040  57040  57040    58041  58041    58041    58041    57042    57042   \n2   71083  72087  71091    71095  71099    72103    71099    72099    72099   \n3   68209  68209  68216    68216  68223    68223    68223    68223    68230   \n4   71046  71046  71046    71046  71046    71046    71046    71046    71046   \n5   61096  61096  60093    60092  60093    60093    61096    61096    61096   \n6   68132  69137  69137    68137  68137    69142    69142    68137    68137   \n7   71590  71575  71574    71560  71560    71559    72573    71559    71559   \n8   74631  74649  74650    74650  74650    74632    74632    74632    73633   \n9   62999  62999  62999    62999  62999    62999    61999    62999    62999   \n10  46014  46014  46014    46014  46014    46015    46015    46015    46015   \n11  82394  82382  82383    82372  82382    82372    82416    82440    82428   \n12  78999  78999  78999    78999  79999    78999    78999    78999    79999   \n13  85056  85056  85056    85056  85056    85056    85056    85056    85056   \n14  71999  71999  71999    70999  71999    71999    71999    71999    71999   \n15  66805  65808  65808    66805  66805    65785    65785    65785    65785   \n16  63076  63072  64072    64068  63065    64065    65064    64061    65061   \n17  67197  67197  67204    67210  67204    67204    67210    67210    67210   \n18  65151  66151  66151    66151  65146    66151    65146    65146    65146   \n\n    64541.3  ...  64541.9  64541.10  64541.11  64541.12  64541.13  64528.2  \\\n0     60487  ...    60472     60461     61470     60487     60487    61485   \n1     58043  ...    58041     58041     58041     58041     58041    58041   \n2     73098  ...    71095     71095     72103     71103     71103    71103   \n3     68230  ...    67224     67217     67217     68223     68223    68223   \n4     70046  ...    70049     70049     70048     70049     70048    70046   \n5     61096  ...    60089     60089     60092     60089     60089    60089   \n6     68137  ...    69142     69142     69142     69142     68137    69137   \n7     71559  ...    72556     72556     72557     72556     72542    72542   \n8     73650  ...    73585     73584     73600     73601     73601    73585   \n9     62999  ...    62999     62999     62999     62999     61999    62999   \n10    46015  ...    46015     46015     46015     46015     46015    46015   \n11    82416  ...    82383     82394     82394     82394     82394    82383   \n12    78999  ...    78999     79999     79999     79999     79999    79999   \n13    85056  ...    85056     85056     85056     85056     85056    85056   \n14    71999  ...    70999     71999     71999     71999     70999    70999   \n15    66782  ...    67736     66719     66719     66701     66701    67717   \n16    63062  ...    66054     66054     65055     65055     64055    63052   \n17    67210  ...    66204     67211     66204     67217     66211    66212   \n18    65146  ...    66145     66145     66145     66145     66145    66145   \n\n    64528.3  64528.4  64528.5           perfume  \n0     60487    60472    60472             ajmal  \n1     58041    58041    58041            amreaj  \n2     72103    72103    72098              aood  \n3     68223    68223    68230         asgar_ali  \n4     70046    70048    71048           bukhoor  \n5     61088    61088    60089         burberrry  \n6     69137    69137    69136        dehenalaod  \n7     72556    72556    72556            junaid  \n8     73585    73585    73585            kausar  \n9     62999    62999    61999              rose  \n10    46015    46015    46015         solidmusk  \n11    83382    82372    82361        TeaTreeOil  \n12    79999    78999    78999         raspberry  \n13    85056    85056    85056          RoseMusk  \n14    70999    70999    70999        strawberry  \n15    66701    66698    66698      constrected2  \n16    64052    63052    63052  carolina_herrera  \n17    66211    66211    67218   oudh_ma'alattar  \n18    66145    66145    66150       constrected  \n\n[19 rows x 29 columns]",
            "text/html": "<div>\n<style scoped>\n    .dataframe tbody tr th:only-of-type {\n        vertical-align: middle;\n    }\n\n    .dataframe tbody tr th {\n        vertical-align: top;\n    }\n\n    .dataframe thead th {\n        text-align: right;\n    }\n</style>\n<table border=\"1\" class=\"dataframe\">\n  <thead>\n    <tr style=\"text-align: right;\">\n      <th></th>\n      <th>64558</th>\n      <th>64556</th>\n      <th>64543</th>\n      <th>64543.1</th>\n      <th>64541</th>\n      <th>64543.2</th>\n      <th>64543.3</th>\n      <th>64541.1</th>\n      <th>64541.2</th>\n      <th>64541.3</th>\n      <th>...</th>\n      <th>64541.9</th>\n      <th>64541.10</th>\n      <th>64541.11</th>\n      <th>64541.12</th>\n      <th>64541.13</th>\n      <th>64528.2</th>\n      <th>64528.3</th>\n      <th>64528.4</th>\n      <th>64528.5</th>\n      <th>perfume</th>\n    </tr>\n  </thead>\n  <tbody>\n    <tr>\n      <th>0</th>\n      <td>60502</td>\n      <td>60489</td>\n      <td>61485</td>\n      <td>60487</td>\n      <td>61485</td>\n      <td>61513</td>\n      <td>60515</td>\n      <td>60500</td>\n      <td>60500</td>\n      <td>60487</td>\n      <td>...</td>\n      <td>60472</td>\n      <td>60461</td>\n      <td>61470</td>\n      <td>60487</td>\n      <td>60487</td>\n      <td>61485</td>\n      <td>60487</td>\n      <td>60472</td>\n      <td>60472</td>\n      <td>ajmal</td>\n    </tr>\n    <tr>\n      <th>1</th>\n      <td>57040</td>\n      <td>57040</td>\n      <td>57040</td>\n      <td>58041</td>\n      <td>58041</td>\n      <td>58041</td>\n      <td>58041</td>\n      <td>57042</td>\n      <td>57042</td>\n      <td>58043</td>\n      <td>...</td>\n      <td>58041</td>\n      <td>58041</td>\n      <td>58041</td>\n      <td>58041</td>\n      <td>58041</td>\n      <td>58041</td>\n      <td>58041</td>\n      <td>58041</td>\n      <td>58041</td>\n      <td>amreaj</td>\n    </tr>\n    <tr>\n      <th>2</th>\n      <td>71083</td>\n      <td>72087</td>\n      <td>71091</td>\n      <td>71095</td>\n      <td>71099</td>\n      <td>72103</td>\n      <td>71099</td>\n      <td>72099</td>\n      <td>72099</td>\n      <td>73098</td>\n      <td>...</td>\n      <td>71095</td>\n      <td>71095</td>\n      <td>72103</td>\n      <td>71103</td>\n      <td>71103</td>\n      <td>71103</td>\n      <td>72103</td>\n      <td>72103</td>\n      <td>72098</td>\n      <td>aood</td>\n    </tr>\n    <tr>\n      <th>3</th>\n      <td>68209</td>\n      <td>68209</td>\n      <td>68216</td>\n      <td>68216</td>\n      <td>68223</td>\n      <td>68223</td>\n      <td>68223</td>\n      <td>68223</td>\n      <td>68230</td>\n      <td>68230</td>\n      <td>...</td>\n      <td>67224</td>\n      <td>67217</td>\n      <td>67217</td>\n      <td>68223</td>\n      <td>68223</td>\n      <td>68223</td>\n      <td>68223</td>\n      <td>68223</td>\n      <td>68230</td>\n      <td>asgar_ali</td>\n    </tr>\n    <tr>\n      <th>4</th>\n      <td>71046</td>\n      <td>71046</td>\n      <td>71046</td>\n      <td>71046</td>\n      <td>71046</td>\n      <td>71046</td>\n      <td>71046</td>\n      <td>71046</td>\n      <td>71046</td>\n      <td>70046</td>\n      <td>...</td>\n      <td>70049</td>\n      <td>70049</td>\n      <td>70048</td>\n      <td>70049</td>\n      <td>70048</td>\n      <td>70046</td>\n      <td>70046</td>\n      <td>70048</td>\n      <td>71048</td>\n      <td>bukhoor</td>\n    </tr>\n    <tr>\n      <th>5</th>\n      <td>61096</td>\n      <td>61096</td>\n      <td>60093</td>\n      <td>60092</td>\n      <td>60093</td>\n      <td>60093</td>\n      <td>61096</td>\n      <td>61096</td>\n      <td>61096</td>\n      <td>61096</td>\n      <td>...</td>\n      <td>60089</td>\n      <td>60089</td>\n      <td>60092</td>\n      <td>60089</td>\n      <td>60089</td>\n      <td>60089</td>\n      <td>61088</td>\n      <td>61088</td>\n      <td>60089</td>\n      <td>burberrry</td>\n    </tr>\n    <tr>\n      <th>6</th>\n      <td>68132</td>\n      <td>69137</td>\n      <td>69137</td>\n      <td>68137</td>\n      <td>68137</td>\n      <td>69142</td>\n      <td>69142</td>\n      <td>68137</td>\n      <td>68137</td>\n      <td>68137</td>\n      <td>...</td>\n      <td>69142</td>\n      <td>69142</td>\n      <td>69142</td>\n      <td>69142</td>\n      <td>68137</td>\n      <td>69137</td>\n      <td>69137</td>\n      <td>69137</td>\n      <td>69136</td>\n      <td>dehenalaod</td>\n    </tr>\n    <tr>\n      <th>7</th>\n      <td>71590</td>\n      <td>71575</td>\n      <td>71574</td>\n      <td>71560</td>\n      <td>71560</td>\n      <td>71559</td>\n      <td>72573</td>\n      <td>71559</td>\n      <td>71559</td>\n      <td>71559</td>\n      <td>...</td>\n      <td>72556</td>\n      <td>72556</td>\n      <td>72557</td>\n      <td>72556</td>\n      <td>72542</td>\n      <td>72542</td>\n      <td>72556</td>\n      <td>72556</td>\n      <td>72556</td>\n      <td>junaid</td>\n    </tr>\n    <tr>\n      <th>8</th>\n      <td>74631</td>\n      <td>74649</td>\n      <td>74650</td>\n      <td>74650</td>\n      <td>74650</td>\n      <td>74632</td>\n      <td>74632</td>\n      <td>74632</td>\n      <td>73633</td>\n      <td>73650</td>\n      <td>...</td>\n      <td>73585</td>\n      <td>73584</td>\n      <td>73600</td>\n      <td>73601</td>\n      <td>73601</td>\n      <td>73585</td>\n      <td>73585</td>\n      <td>73585</td>\n      <td>73585</td>\n      <td>kausar</td>\n    </tr>\n    <tr>\n      <th>9</th>\n      <td>62999</td>\n      <td>62999</td>\n      <td>62999</td>\n      <td>62999</td>\n      <td>62999</td>\n      <td>62999</td>\n      <td>61999</td>\n      <td>62999</td>\n      <td>62999</td>\n      <td>62999</td>\n      <td>...</td>\n      <td>62999</td>\n      <td>62999</td>\n      <td>62999</td>\n      <td>62999</td>\n      <td>61999</td>\n      <td>62999</td>\n      <td>62999</td>\n      <td>62999</td>\n      <td>61999</td>\n      <td>rose</td>\n    </tr>\n    <tr>\n      <th>10</th>\n      <td>46014</td>\n      <td>46014</td>\n      <td>46014</td>\n      <td>46014</td>\n      <td>46014</td>\n      <td>46015</td>\n      <td>46015</td>\n      <td>46015</td>\n      <td>46015</td>\n      <td>46015</td>\n      <td>...</td>\n      <td>46015</td>\n      <td>46015</td>\n      <td>46015</td>\n      <td>46015</td>\n      <td>46015</td>\n      <td>46015</td>\n      <td>46015</td>\n      <td>46015</td>\n      <td>46015</td>\n      <td>solidmusk</td>\n    </tr>\n    <tr>\n      <th>11</th>\n      <td>82394</td>\n      <td>82382</td>\n      <td>82383</td>\n      <td>82372</td>\n      <td>82382</td>\n      <td>82372</td>\n      <td>82416</td>\n      <td>82440</td>\n      <td>82428</td>\n      <td>82416</td>\n      <td>...</td>\n      <td>82383</td>\n      <td>82394</td>\n      <td>82394</td>\n      <td>82394</td>\n      <td>82394</td>\n      <td>82383</td>\n      <td>83382</td>\n      <td>82372</td>\n      <td>82361</td>\n      <td>TeaTreeOil</td>\n    </tr>\n    <tr>\n      <th>12</th>\n      <td>78999</td>\n      <td>78999</td>\n      <td>78999</td>\n      <td>78999</td>\n      <td>79999</td>\n      <td>78999</td>\n      <td>78999</td>\n      <td>78999</td>\n      <td>79999</td>\n      <td>78999</td>\n      <td>...</td>\n      <td>78999</td>\n      <td>79999</td>\n      <td>79999</td>\n      <td>79999</td>\n      <td>79999</td>\n      <td>79999</td>\n      <td>79999</td>\n      <td>78999</td>\n      <td>78999</td>\n      <td>raspberry</td>\n    </tr>\n    <tr>\n      <th>13</th>\n      <td>85056</td>\n      <td>85056</td>\n      <td>85056</td>\n      <td>85056</td>\n      <td>85056</td>\n      <td>85056</td>\n      <td>85056</td>\n      <td>85056</td>\n      <td>85056</td>\n      <td>85056</td>\n      <td>...</td>\n      <td>85056</td>\n      <td>85056</td>\n      <td>85056</td>\n      <td>85056</td>\n      <td>85056</td>\n      <td>85056</td>\n      <td>85056</td>\n      <td>85056</td>\n      <td>85056</td>\n      <td>RoseMusk</td>\n    </tr>\n    <tr>\n      <th>14</th>\n      <td>71999</td>\n      <td>71999</td>\n      <td>71999</td>\n      <td>70999</td>\n      <td>71999</td>\n      <td>71999</td>\n      <td>71999</td>\n      <td>71999</td>\n      <td>71999</td>\n      <td>71999</td>\n      <td>...</td>\n      <td>70999</td>\n      <td>71999</td>\n      <td>71999</td>\n      <td>71999</td>\n      <td>70999</td>\n      <td>70999</td>\n      <td>70999</td>\n      <td>70999</td>\n      <td>70999</td>\n      <td>strawberry</td>\n    </tr>\n    <tr>\n      <th>15</th>\n      <td>66805</td>\n      <td>65808</td>\n      <td>65808</td>\n      <td>66805</td>\n      <td>66805</td>\n      <td>65785</td>\n      <td>65785</td>\n      <td>65785</td>\n      <td>65785</td>\n      <td>66782</td>\n      <td>...</td>\n      <td>67736</td>\n      <td>66719</td>\n      <td>66719</td>\n      <td>66701</td>\n      <td>66701</td>\n      <td>67717</td>\n      <td>66701</td>\n      <td>66698</td>\n      <td>66698</td>\n      <td>constrected2</td>\n    </tr>\n    <tr>\n      <th>16</th>\n      <td>63076</td>\n      <td>63072</td>\n      <td>64072</td>\n      <td>64068</td>\n      <td>63065</td>\n      <td>64065</td>\n      <td>65064</td>\n      <td>64061</td>\n      <td>65061</td>\n      <td>63062</td>\n      <td>...</td>\n      <td>66054</td>\n      <td>66054</td>\n      <td>65055</td>\n      <td>65055</td>\n      <td>64055</td>\n      <td>63052</td>\n      <td>64052</td>\n      <td>63052</td>\n      <td>63052</td>\n      <td>carolina_herrera</td>\n    </tr>\n    <tr>\n      <th>17</th>\n      <td>67197</td>\n      <td>67197</td>\n      <td>67204</td>\n      <td>67210</td>\n      <td>67204</td>\n      <td>67204</td>\n      <td>67210</td>\n      <td>67210</td>\n      <td>67210</td>\n      <td>67210</td>\n      <td>...</td>\n      <td>66204</td>\n      <td>67211</td>\n      <td>66204</td>\n      <td>67217</td>\n      <td>66211</td>\n      <td>66212</td>\n      <td>66211</td>\n      <td>66211</td>\n      <td>67218</td>\n      <td>oudh_ma'alattar</td>\n    </tr>\n    <tr>\n      <th>18</th>\n      <td>65151</td>\n      <td>66151</td>\n      <td>66151</td>\n      <td>66151</td>\n      <td>65146</td>\n      <td>66151</td>\n      <td>65146</td>\n      <td>65146</td>\n      <td>65146</td>\n      <td>65146</td>\n      <td>...</td>\n      <td>66145</td>\n      <td>66145</td>\n      <td>66145</td>\n      <td>66145</td>\n      <td>66145</td>\n      <td>66145</td>\n      <td>66145</td>\n      <td>66145</td>\n      <td>66150</td>\n      <td>constrected</td>\n    </tr>\n  </tbody>\n</table>\n<p>19 rows × 29 columns</p>\n</div>"
          },
          "metadata": {}
        }
      ]
    },
    {
      "cell_type": "markdown",
      "source": [
        "Obtaining the list of perfume names."
      ],
      "metadata": {
        "id": "1AfWByBptc2G"
      }
    },
    {
      "cell_type": "code",
      "source": [
        "perfumes = list(perfume_df.iloc[:,-1])\n",
        "perfumes"
      ],
      "metadata": {
        "execution": {
          "iopub.status.busy": "2023-09-12T09:22:40.325640Z",
          "iopub.execute_input": "2023-09-12T09:22:40.326847Z",
          "iopub.status.idle": "2023-09-12T09:22:40.336771Z",
          "shell.execute_reply.started": "2023-09-12T09:22:40.326771Z",
          "shell.execute_reply": "2023-09-12T09:22:40.335433Z"
        },
        "trusted": true,
        "id": "clFz6xEKtc2H",
        "outputId": "fe564f34-7520-41ae-c9d3-c98cefeae085"
      },
      "execution_count": null,
      "outputs": [
        {
          "execution_count": 6,
          "output_type": "execute_result",
          "data": {
            "text/plain": "['ajmal',\n 'amreaj',\n 'aood',\n 'asgar_ali',\n 'bukhoor',\n 'burberrry',\n 'dehenalaod',\n 'junaid',\n 'kausar',\n 'rose',\n 'solidmusk',\n 'TeaTreeOil',\n 'raspberry',\n 'RoseMusk',\n 'strawberry',\n 'constrected2',\n 'carolina_herrera',\n \"oudh_ma'alattar\",\n 'constrected']"
          },
          "metadata": {}
        }
      ]
    },
    {
      "cell_type": "markdown",
      "source": [
        "Checking our dataset for any missing values."
      ],
      "metadata": {
        "id": "lzyvP-nwtc2I"
      }
    },
    {
      "cell_type": "code",
      "source": [
        "\n",
        "perfume_df.isnull().sum()"
      ],
      "metadata": {
        "execution": {
          "iopub.status.busy": "2023-09-12T09:22:40.338449Z",
          "iopub.execute_input": "2023-09-12T09:22:40.339145Z",
          "iopub.status.idle": "2023-09-12T09:22:40.352986Z",
          "shell.execute_reply.started": "2023-09-12T09:22:40.339099Z",
          "shell.execute_reply": "2023-09-12T09:22:40.351644Z"
        },
        "trusted": true,
        "id": "C2s3EL48tc2J",
        "outputId": "364b7e8b-43c7-40ab-a25a-aae85955d2e8"
      },
      "execution_count": null,
      "outputs": [
        {
          "execution_count": 7,
          "output_type": "execute_result",
          "data": {
            "text/plain": "64558       0\n64556       0\n64543       0\n64543.1     0\n64541       0\n64543.2     0\n64543.3     0\n64541.1     0\n64541.2     0\n64541.3     0\n64541.4     0\n64541.5     0\n64541.6     0\n64528       0\n64528.1     0\n63529       0\n63529.1     0\n64541.7     0\n64541.8     0\n64541.9     0\n64541.10    0\n64541.11    0\n64541.12    0\n64541.13    0\n64528.2     0\n64528.3     0\n64528.4     0\n64528.5     0\nperfume     0\ndtype: int64"
          },
          "metadata": {}
        }
      ]
    },
    {
      "cell_type": "markdown",
      "source": [
        "Here, we create a new dataframe with 1 column for the olfactometer readings and the other column for the scent or type of perfume."
      ],
      "metadata": {
        "id": "5szzykU8tc2K"
      }
    },
    {
      "cell_type": "code",
      "source": [
        "perfume_new_df = pd.DataFrame([], columns= ['Observation', 'Perfume'])\n",
        "perfume_new_df"
      ],
      "metadata": {
        "execution": {
          "iopub.status.busy": "2023-09-12T09:22:40.354387Z",
          "iopub.execute_input": "2023-09-12T09:22:40.354827Z",
          "iopub.status.idle": "2023-09-12T09:22:40.372996Z",
          "shell.execute_reply.started": "2023-09-12T09:22:40.354780Z",
          "shell.execute_reply": "2023-09-12T09:22:40.371528Z"
        },
        "trusted": true,
        "id": "b9Bhbnwttc2K",
        "outputId": "6b2e3cdf-7b80-4192-a7d4-f4e4a90e5c1a"
      },
      "execution_count": null,
      "outputs": [
        {
          "execution_count": 8,
          "output_type": "execute_result",
          "data": {
            "text/plain": "Empty DataFrame\nColumns: [Observation, Perfume]\nIndex: []",
            "text/html": "<div>\n<style scoped>\n    .dataframe tbody tr th:only-of-type {\n        vertical-align: middle;\n    }\n\n    .dataframe tbody tr th {\n        vertical-align: top;\n    }\n\n    .dataframe thead th {\n        text-align: right;\n    }\n</style>\n<table border=\"1\" class=\"dataframe\">\n  <thead>\n    <tr style=\"text-align: right;\">\n      <th></th>\n      <th>Observation</th>\n      <th>Perfume</th>\n    </tr>\n  </thead>\n  <tbody>\n  </tbody>\n</table>\n</div>"
          },
          "metadata": {}
        }
      ]
    },
    {
      "cell_type": "markdown",
      "source": [
        "Labelling the observed readings with the perfume scent it belongs to."
      ],
      "metadata": {
        "id": "yYitEDbqtc2L"
      }
    },
    {
      "cell_type": "code",
      "source": [
        "observations = np.array([])\n",
        "labels = np.array([])\n",
        "\n",
        "for perfume in range(len(perfumes)):\n",
        "  for i in range(27):\n",
        "    obs, label = perfume_df.iloc[perfume,i], perfume_df.iloc[perfume,-1]\n",
        "    observations = np.append(observations, obs)\n",
        "    labels = np.append(labels, label)\n"
      ],
      "metadata": {
        "execution": {
          "iopub.status.busy": "2023-09-12T09:22:40.374469Z",
          "iopub.execute_input": "2023-09-12T09:22:40.374997Z",
          "iopub.status.idle": "2023-09-12T09:22:40.443725Z",
          "shell.execute_reply.started": "2023-09-12T09:22:40.374951Z",
          "shell.execute_reply": "2023-09-12T09:22:40.442571Z"
        },
        "trusted": true,
        "id": "pRBDTU30tc2M"
      },
      "execution_count": null,
      "outputs": []
    },
    {
      "cell_type": "markdown",
      "source": [
        "Converting the array to panda series and panda series to a dataframe."
      ],
      "metadata": {
        "id": "WzZNycRttc2N"
      }
    },
    {
      "cell_type": "code",
      "source": [
        "observations = pd.Series(observations)\n",
        "labels = pd.Series(labels)\n",
        ""
      ],
      "metadata": {
        "execution": {
          "iopub.status.busy": "2023-09-12T09:22:40.449620Z",
          "iopub.execute_input": "2023-09-12T09:22:40.450060Z",
          "iopub.status.idle": "2023-09-12T09:22:40.457046Z",
          "shell.execute_reply.started": "2023-09-12T09:22:40.450026Z",
          "shell.execute_reply": "2023-09-12T09:22:40.455593Z"
        },
        "trusted": true,
        "id": "7ddFRocZtc2N"
      },
      "execution_count": null,
      "outputs": []
    },
    {
      "cell_type": "code",
      "source": [
        "perfume_new_df.Observation = observations\n",
        "perfume_new_df.Perfume = labels\n",
        "\n",
        ""
      ],
      "metadata": {
        "execution": {
          "iopub.status.busy": "2023-09-12T09:22:40.459056Z",
          "iopub.execute_input": "2023-09-12T09:22:40.459576Z",
          "iopub.status.idle": "2023-09-12T09:22:40.471210Z",
          "shell.execute_reply.started": "2023-09-12T09:22:40.459528Z",
          "shell.execute_reply": "2023-09-12T09:22:40.469948Z"
        },
        "trusted": true,
        "id": "F1CZmpWOtc2O"
      },
      "execution_count": null,
      "outputs": []
    },
    {
      "cell_type": "code",
      "source": [
        "perfume_new_df = pd.DataFrame(perfume_new_df)\n",
        "perfume_new_df\n"
      ],
      "metadata": {
        "execution": {
          "iopub.status.busy": "2023-09-12T09:22:40.473127Z",
          "iopub.execute_input": "2023-09-12T09:22:40.473649Z",
          "iopub.status.idle": "2023-09-12T09:22:40.495149Z",
          "shell.execute_reply.started": "2023-09-12T09:22:40.473600Z",
          "shell.execute_reply": "2023-09-12T09:22:40.493891Z"
        },
        "trusted": true,
        "id": "TqhivUz8tc2P",
        "outputId": "6a52c8af-5ca5-4b83-f230-75402e4448bd"
      },
      "execution_count": null,
      "outputs": [
        {
          "execution_count": 12,
          "output_type": "execute_result",
          "data": {
            "text/plain": "     Observation      Perfume\n0        60502.0        ajmal\n1        60489.0        ajmal\n2        61485.0        ajmal\n3        60487.0        ajmal\n4        61485.0        ajmal\n..           ...          ...\n508      66145.0  constrected\n509      66145.0  constrected\n510      66145.0  constrected\n511      66145.0  constrected\n512      66145.0  constrected\n\n[513 rows x 2 columns]",
            "text/html": "<div>\n<style scoped>\n    .dataframe tbody tr th:only-of-type {\n        vertical-align: middle;\n    }\n\n    .dataframe tbody tr th {\n        vertical-align: top;\n    }\n\n    .dataframe thead th {\n        text-align: right;\n    }\n</style>\n<table border=\"1\" class=\"dataframe\">\n  <thead>\n    <tr style=\"text-align: right;\">\n      <th></th>\n      <th>Observation</th>\n      <th>Perfume</th>\n    </tr>\n  </thead>\n  <tbody>\n    <tr>\n      <th>0</th>\n      <td>60502.0</td>\n      <td>ajmal</td>\n    </tr>\n    <tr>\n      <th>1</th>\n      <td>60489.0</td>\n      <td>ajmal</td>\n    </tr>\n    <tr>\n      <th>2</th>\n      <td>61485.0</td>\n      <td>ajmal</td>\n    </tr>\n    <tr>\n      <th>3</th>\n      <td>60487.0</td>\n      <td>ajmal</td>\n    </tr>\n    <tr>\n      <th>4</th>\n      <td>61485.0</td>\n      <td>ajmal</td>\n    </tr>\n    <tr>\n      <th>...</th>\n      <td>...</td>\n      <td>...</td>\n    </tr>\n    <tr>\n      <th>508</th>\n      <td>66145.0</td>\n      <td>constrected</td>\n    </tr>\n    <tr>\n      <th>509</th>\n      <td>66145.0</td>\n      <td>constrected</td>\n    </tr>\n    <tr>\n      <th>510</th>\n      <td>66145.0</td>\n      <td>constrected</td>\n    </tr>\n    <tr>\n      <th>511</th>\n      <td>66145.0</td>\n      <td>constrected</td>\n    </tr>\n    <tr>\n      <th>512</th>\n      <td>66145.0</td>\n      <td>constrected</td>\n    </tr>\n  </tbody>\n</table>\n<p>513 rows × 2 columns</p>\n</div>"
          },
          "metadata": {}
        }
      ]
    },
    {
      "cell_type": "markdown",
      "source": [
        "Obtaining the size of our dataframe."
      ],
      "metadata": {
        "id": "FWv7rDqqtc2Q"
      }
    },
    {
      "cell_type": "code",
      "source": [
        "perfume_new_df.shape"
      ],
      "metadata": {
        "execution": {
          "iopub.status.busy": "2023-09-12T09:22:40.496850Z",
          "iopub.execute_input": "2023-09-12T09:22:40.497307Z",
          "iopub.status.idle": "2023-09-12T09:22:40.506101Z",
          "shell.execute_reply.started": "2023-09-12T09:22:40.497265Z",
          "shell.execute_reply": "2023-09-12T09:22:40.504766Z"
        },
        "trusted": true,
        "id": "CZWz5tMztc2R",
        "outputId": "30f3f16f-dff3-44ee-b7cf-46984b10a0ad"
      },
      "execution_count": null,
      "outputs": [
        {
          "execution_count": 13,
          "output_type": "execute_result",
          "data": {
            "text/plain": "(513, 2)"
          },
          "metadata": {}
        }
      ]
    },
    {
      "cell_type": "code",
      "source": [
        "perfume_new_df.info()"
      ],
      "metadata": {
        "execution": {
          "iopub.status.busy": "2023-09-12T09:22:40.508314Z",
          "iopub.execute_input": "2023-09-12T09:22:40.508876Z",
          "iopub.status.idle": "2023-09-12T09:22:40.530656Z",
          "shell.execute_reply.started": "2023-09-12T09:22:40.508832Z",
          "shell.execute_reply": "2023-09-12T09:22:40.529413Z"
        },
        "trusted": true,
        "id": "9E3glItatc2S",
        "outputId": "62cdddef-058e-4b84-a0de-34c02d654b4c"
      },
      "execution_count": null,
      "outputs": [
        {
          "name": "stdout",
          "text": "<class 'pandas.core.frame.DataFrame'>\nRangeIndex: 513 entries, 0 to 512\nData columns (total 2 columns):\n #   Column       Non-Null Count  Dtype  \n---  ------       --------------  -----  \n 0   Observation  513 non-null    float64\n 1   Perfume      513 non-null    object \ndtypes: float64(1), object(1)\nmemory usage: 8.1+ KB\n",
          "output_type": "stream"
        }
      ]
    },
    {
      "cell_type": "markdown",
      "source": [
        "Here, we shuffle our dataset to prevent biasing."
      ],
      "metadata": {
        "id": "YTWDACN7tc2T"
      }
    },
    {
      "cell_type": "code",
      "source": [
        "perfume_new_df = perfume_new_df.sample(frac= 1, random_state= 42).reset_index(drop = True)"
      ],
      "metadata": {
        "execution": {
          "iopub.status.busy": "2023-09-12T09:22:40.532361Z",
          "iopub.execute_input": "2023-09-12T09:22:40.532969Z",
          "iopub.status.idle": "2023-09-12T09:22:40.541818Z",
          "shell.execute_reply.started": "2023-09-12T09:22:40.532923Z",
          "shell.execute_reply": "2023-09-12T09:22:40.540459Z"
        },
        "trusted": true,
        "id": "JgUBqpxFtc2U"
      },
      "execution_count": null,
      "outputs": []
    },
    {
      "cell_type": "code",
      "source": [
        "perfume_new_df.head()"
      ],
      "metadata": {
        "execution": {
          "iopub.status.busy": "2023-09-12T09:22:40.543526Z",
          "iopub.execute_input": "2023-09-12T09:22:40.543977Z",
          "iopub.status.idle": "2023-09-12T09:22:40.562876Z",
          "shell.execute_reply.started": "2023-09-12T09:22:40.543938Z",
          "shell.execute_reply": "2023-09-12T09:22:40.561450Z"
        },
        "trusted": true,
        "id": "pHRYRf6utc2U",
        "outputId": "490c84ca-322a-4ede-c7e8-bd42d5e2f512"
      },
      "execution_count": null,
      "outputs": [
        {
          "execution_count": 16,
          "output_type": "execute_result",
          "data": {
            "text/plain": "   Observation           Perfume\n0      82440.0        TeaTreeOil\n1      65146.0       constrected\n2      64061.0  carolina_herrera\n3      60089.0         burberrry\n4      65146.0       constrected",
            "text/html": "<div>\n<style scoped>\n    .dataframe tbody tr th:only-of-type {\n        vertical-align: middle;\n    }\n\n    .dataframe tbody tr th {\n        vertical-align: top;\n    }\n\n    .dataframe thead th {\n        text-align: right;\n    }\n</style>\n<table border=\"1\" class=\"dataframe\">\n  <thead>\n    <tr style=\"text-align: right;\">\n      <th></th>\n      <th>Observation</th>\n      <th>Perfume</th>\n    </tr>\n  </thead>\n  <tbody>\n    <tr>\n      <th>0</th>\n      <td>82440.0</td>\n      <td>TeaTreeOil</td>\n    </tr>\n    <tr>\n      <th>1</th>\n      <td>65146.0</td>\n      <td>constrected</td>\n    </tr>\n    <tr>\n      <th>2</th>\n      <td>64061.0</td>\n      <td>carolina_herrera</td>\n    </tr>\n    <tr>\n      <th>3</th>\n      <td>60089.0</td>\n      <td>burberrry</td>\n    </tr>\n    <tr>\n      <th>4</th>\n      <td>65146.0</td>\n      <td>constrected</td>\n    </tr>\n  </tbody>\n</table>\n</div>"
          },
          "metadata": {}
        }
      ]
    },
    {
      "cell_type": "code",
      "source": [
        "pd.DataFrame(perfume_new_df.groupby('Perfume').describe()).T"
      ],
      "metadata": {
        "execution": {
          "iopub.status.busy": "2023-09-12T09:22:40.564878Z",
          "iopub.execute_input": "2023-09-12T09:22:40.565328Z",
          "iopub.status.idle": "2023-09-12T09:22:40.693446Z",
          "shell.execute_reply.started": "2023-09-12T09:22:40.565288Z",
          "shell.execute_reply": "2023-09-12T09:22:40.692246Z"
        },
        "trusted": true,
        "id": "awID2b2mtc2V",
        "outputId": "d981a6a1-b120-4ec8-9e80-dbc38f696134"
      },
      "execution_count": null,
      "outputs": [
        {
          "execution_count": 17,
          "output_type": "execute_result",
          "data": {
            "text/plain": "Perfume            RoseMusk    TeaTreeOil         ajmal        amreaj  \\\nObservation count      27.0     27.000000     27.000000     27.000000   \n            mean    85056.0  82428.111111  60790.148148  57819.148148   \n            std         0.0    191.384296    464.150730    423.861979   \n            min     85056.0  82372.000000  60461.000000  57040.000000   \n            25%     85056.0  82382.000000  60487.000000  58041.000000   \n            50%     85056.0  82383.000000  60500.000000  58041.000000   \n            75%     85056.0  82394.000000  61476.500000  58041.000000   \n            max     85056.0  83382.000000  61526.000000  58043.000000   \n\nPerfume                    aood     asgar_ali       bukhoor     burberrry  \\\nObservation count     27.000000     27.000000     27.000000     27.000000   \n            mean   71800.074074  68111.740741  70269.111111  60462.185185   \n            std      608.412178    321.575639    640.193440    493.504036   \n            min    71083.000000  67217.000000  69046.000000  60089.000000   \n            25%    71101.000000  68219.500000  70046.000000  60089.000000   \n            50%    72091.000000  68223.000000  70048.000000  60092.000000   \n            75%    72099.000000  68226.500000  71046.000000  61092.000000   \n            max    73098.000000  68230.000000  71046.000000  61096.000000   \n\nPerfume            carolina_herrera   constrected  constrected2    dehenalaod  \\\nObservation count         27.000000     27.000000     27.000000     27.000000   \n            mean       64208.666667  65628.074074  66568.814815  68806.259259   \n            std          986.219433    509.428709    537.646226    481.858788   \n            min        63052.000000  65146.000000  65765.000000  68132.000000   \n            25%        63068.500000  65146.000000  66253.000000  68139.500000   \n            50%        64065.000000  65151.000000  66722.000000  69137.000000   \n            75%        65057.500000  66145.000000  66761.500000  69142.000000   \n            max        66054.000000  66151.000000  67736.000000  69142.000000   \n\nPerfume                  junaid        kausar  oudh_ma'alattar     raspberry  \\\nObservation count     27.000000     27.000000        27.000000     27.000000   \n            mean   72194.111111  73995.185185     66834.555556  79443.444444   \n            std      491.558145    509.082058       492.471892    506.369684   \n            min    71559.000000  73584.000000     66198.000000  78999.000000   \n            25%    71567.000000  73601.000000     66211.000000  78999.000000   \n            50%    72556.000000  73633.000000     67197.000000  78999.000000   \n            75%    72564.000000  74632.000000     67207.000000  79999.000000   \n            max    72588.000000  74667.000000     67217.000000  79999.000000   \n\nPerfume                    rose     solidmusk    strawberry  \nObservation count     27.000000     27.000000     27.000000  \n            mean   62887.888889  46014.814815  71665.666667  \n            std      320.256308      0.395847    480.384461  \n            min    61999.000000  46014.000000  70999.000000  \n            25%    62999.000000  46015.000000  70999.000000  \n            50%    62999.000000  46015.000000  71999.000000  \n            75%    62999.000000  46015.000000  71999.000000  \n            max    62999.000000  46015.000000  71999.000000  ",
            "text/html": "<div>\n<style scoped>\n    .dataframe tbody tr th:only-of-type {\n        vertical-align: middle;\n    }\n\n    .dataframe tbody tr th {\n        vertical-align: top;\n    }\n\n    .dataframe thead th {\n        text-align: right;\n    }\n</style>\n<table border=\"1\" class=\"dataframe\">\n  <thead>\n    <tr style=\"text-align: right;\">\n      <th></th>\n      <th>Perfume</th>\n      <th>RoseMusk</th>\n      <th>TeaTreeOil</th>\n      <th>ajmal</th>\n      <th>amreaj</th>\n      <th>aood</th>\n      <th>asgar_ali</th>\n      <th>bukhoor</th>\n      <th>burberrry</th>\n      <th>carolina_herrera</th>\n      <th>constrected</th>\n      <th>constrected2</th>\n      <th>dehenalaod</th>\n      <th>junaid</th>\n      <th>kausar</th>\n      <th>oudh_ma'alattar</th>\n      <th>raspberry</th>\n      <th>rose</th>\n      <th>solidmusk</th>\n      <th>strawberry</th>\n    </tr>\n  </thead>\n  <tbody>\n    <tr>\n      <th rowspan=\"8\" valign=\"top\">Observation</th>\n      <th>count</th>\n      <td>27.0</td>\n      <td>27.000000</td>\n      <td>27.000000</td>\n      <td>27.000000</td>\n      <td>27.000000</td>\n      <td>27.000000</td>\n      <td>27.000000</td>\n      <td>27.000000</td>\n      <td>27.000000</td>\n      <td>27.000000</td>\n      <td>27.000000</td>\n      <td>27.000000</td>\n      <td>27.000000</td>\n      <td>27.000000</td>\n      <td>27.000000</td>\n      <td>27.000000</td>\n      <td>27.000000</td>\n      <td>27.000000</td>\n      <td>27.000000</td>\n    </tr>\n    <tr>\n      <th>mean</th>\n      <td>85056.0</td>\n      <td>82428.111111</td>\n      <td>60790.148148</td>\n      <td>57819.148148</td>\n      <td>71800.074074</td>\n      <td>68111.740741</td>\n      <td>70269.111111</td>\n      <td>60462.185185</td>\n      <td>64208.666667</td>\n      <td>65628.074074</td>\n      <td>66568.814815</td>\n      <td>68806.259259</td>\n      <td>72194.111111</td>\n      <td>73995.185185</td>\n      <td>66834.555556</td>\n      <td>79443.444444</td>\n      <td>62887.888889</td>\n      <td>46014.814815</td>\n      <td>71665.666667</td>\n    </tr>\n    <tr>\n      <th>std</th>\n      <td>0.0</td>\n      <td>191.384296</td>\n      <td>464.150730</td>\n      <td>423.861979</td>\n      <td>608.412178</td>\n      <td>321.575639</td>\n      <td>640.193440</td>\n      <td>493.504036</td>\n      <td>986.219433</td>\n      <td>509.428709</td>\n      <td>537.646226</td>\n      <td>481.858788</td>\n      <td>491.558145</td>\n      <td>509.082058</td>\n      <td>492.471892</td>\n      <td>506.369684</td>\n      <td>320.256308</td>\n      <td>0.395847</td>\n      <td>480.384461</td>\n    </tr>\n    <tr>\n      <th>min</th>\n      <td>85056.0</td>\n      <td>82372.000000</td>\n      <td>60461.000000</td>\n      <td>57040.000000</td>\n      <td>71083.000000</td>\n      <td>67217.000000</td>\n      <td>69046.000000</td>\n      <td>60089.000000</td>\n      <td>63052.000000</td>\n      <td>65146.000000</td>\n      <td>65765.000000</td>\n      <td>68132.000000</td>\n      <td>71559.000000</td>\n      <td>73584.000000</td>\n      <td>66198.000000</td>\n      <td>78999.000000</td>\n      <td>61999.000000</td>\n      <td>46014.000000</td>\n      <td>70999.000000</td>\n    </tr>\n    <tr>\n      <th>25%</th>\n      <td>85056.0</td>\n      <td>82382.000000</td>\n      <td>60487.000000</td>\n      <td>58041.000000</td>\n      <td>71101.000000</td>\n      <td>68219.500000</td>\n      <td>70046.000000</td>\n      <td>60089.000000</td>\n      <td>63068.500000</td>\n      <td>65146.000000</td>\n      <td>66253.000000</td>\n      <td>68139.500000</td>\n      <td>71567.000000</td>\n      <td>73601.000000</td>\n      <td>66211.000000</td>\n      <td>78999.000000</td>\n      <td>62999.000000</td>\n      <td>46015.000000</td>\n      <td>70999.000000</td>\n    </tr>\n    <tr>\n      <th>50%</th>\n      <td>85056.0</td>\n      <td>82383.000000</td>\n      <td>60500.000000</td>\n      <td>58041.000000</td>\n      <td>72091.000000</td>\n      <td>68223.000000</td>\n      <td>70048.000000</td>\n      <td>60092.000000</td>\n      <td>64065.000000</td>\n      <td>65151.000000</td>\n      <td>66722.000000</td>\n      <td>69137.000000</td>\n      <td>72556.000000</td>\n      <td>73633.000000</td>\n      <td>67197.000000</td>\n      <td>78999.000000</td>\n      <td>62999.000000</td>\n      <td>46015.000000</td>\n      <td>71999.000000</td>\n    </tr>\n    <tr>\n      <th>75%</th>\n      <td>85056.0</td>\n      <td>82394.000000</td>\n      <td>61476.500000</td>\n      <td>58041.000000</td>\n      <td>72099.000000</td>\n      <td>68226.500000</td>\n      <td>71046.000000</td>\n      <td>61092.000000</td>\n      <td>65057.500000</td>\n      <td>66145.000000</td>\n      <td>66761.500000</td>\n      <td>69142.000000</td>\n      <td>72564.000000</td>\n      <td>74632.000000</td>\n      <td>67207.000000</td>\n      <td>79999.000000</td>\n      <td>62999.000000</td>\n      <td>46015.000000</td>\n      <td>71999.000000</td>\n    </tr>\n    <tr>\n      <th>max</th>\n      <td>85056.0</td>\n      <td>83382.000000</td>\n      <td>61526.000000</td>\n      <td>58043.000000</td>\n      <td>73098.000000</td>\n      <td>68230.000000</td>\n      <td>71046.000000</td>\n      <td>61096.000000</td>\n      <td>66054.000000</td>\n      <td>66151.000000</td>\n      <td>67736.000000</td>\n      <td>69142.000000</td>\n      <td>72588.000000</td>\n      <td>74667.000000</td>\n      <td>67217.000000</td>\n      <td>79999.000000</td>\n      <td>62999.000000</td>\n      <td>46015.000000</td>\n      <td>71999.000000</td>\n    </tr>\n  </tbody>\n</table>\n</div>"
          },
          "metadata": {}
        }
      ]
    },
    {
      "cell_type": "markdown",
      "source": [
        "Visually representing our dataframe using graphs for better analysis."
      ],
      "metadata": {
        "id": "2Dsd4fXPtc2W"
      }
    },
    {
      "cell_type": "code",
      "source": [
        "perfume_new_df.groupby('Perfume').mean().plot(kind = 'bar', figsize=(15,8), color=\"pink\")\n",
        "plt.ylabel('mean of measurements')\n",
        "plt.show()\n",
        ""
      ],
      "metadata": {
        "execution": {
          "iopub.status.busy": "2023-09-12T09:22:40.694990Z",
          "iopub.execute_input": "2023-09-12T09:22:40.695834Z",
          "iopub.status.idle": "2023-09-12T09:22:41.111876Z",
          "shell.execute_reply.started": "2023-09-12T09:22:40.695770Z",
          "shell.execute_reply": "2023-09-12T09:22:41.110487Z"
        },
        "trusted": true,
        "id": "3IHD_sB-tc2X",
        "outputId": "710d98da-7a99-4055-bb9f-d5bc0b43b2e1"
      },
      "execution_count": null,
      "outputs": [
        {
          "output_type": "display_data",
          "data": {
            "text/plain": "<Figure size 1080x576 with 1 Axes>",
            "image/png": "[encoded data removed]"
          },
          "metadata": {
            "needs_background": "light"
          }
        }
      ]
    },
    {
      "cell_type": "code",
      "source": [
        "sns.displot(perfume_new_df.Observation, color=\"purple\")"
      ],
      "metadata": {
        "execution": {
          "iopub.status.busy": "2023-09-12T09:22:41.113716Z",
          "iopub.execute_input": "2023-09-12T09:22:41.114098Z",
          "iopub.status.idle": "2023-09-12T09:22:41.441173Z",
          "shell.execute_reply.started": "2023-09-12T09:22:41.114067Z",
          "shell.execute_reply": "2023-09-12T09:22:41.439994Z"
        },
        "trusted": true,
        "id": "OI2rSmFMtc2Y",
        "outputId": "eeb8020b-d1c7-4d99-9253-24b2f9693e6e"
      },
      "execution_count": null,
      "outputs": [
        {
          "execution_count": 19,
          "output_type": "execute_result",
          "data": {
            "text/plain": "<seaborn.axisgrid.FacetGrid at 0x7c96357d0890>"
          },
          "metadata": {}
        },
        {
          "output_type": "display_data",
          "data": {
            "text/plain": "<Figure size 360x360 with 1 Axes>",
            "image/png": "[encoded data removed]"
          },
          "metadata": {
            "needs_background": "light"
          }
        }
      ]
    },
    {
      "cell_type": "markdown",
      "source": [
        "Encoding our labels into numericals"
      ],
      "metadata": {
        "id": "uOOc6-Mbtc2Z"
      }
    },
    {
      "cell_type": "code",
      "source": [
        "le = LabelEncoder()\n",
        "perfume_new_df['Label'] = le.fit_transform(perfume_new_df['Perfume'])\n",
        ""
      ],
      "metadata": {
        "execution": {
          "iopub.status.busy": "2023-09-12T09:22:41.443265Z",
          "iopub.execute_input": "2023-09-12T09:22:41.443755Z",
          "iopub.status.idle": "2023-09-12T09:22:41.451772Z",
          "shell.execute_reply.started": "2023-09-12T09:22:41.443707Z",
          "shell.execute_reply": "2023-09-12T09:22:41.450520Z"
        },
        "trusted": true,
        "id": "j5orF_LBtc2a"
      },
      "execution_count": null,
      "outputs": []
    },
    {
      "cell_type": "code",
      "source": [
        "x = perfume_new_df['Observation'].to_numpy().reshape(-1,1)\n",
        "y = perfume_new_df['Label']"
      ],
      "metadata": {
        "execution": {
          "iopub.status.busy": "2023-09-12T09:22:41.453635Z",
          "iopub.execute_input": "2023-09-12T09:22:41.454156Z",
          "iopub.status.idle": "2023-09-12T09:22:41.469214Z",
          "shell.execute_reply.started": "2023-09-12T09:22:41.454111Z",
          "shell.execute_reply": "2023-09-12T09:22:41.468045Z"
        },
        "trusted": true,
        "id": "5Thqlquftc2a"
      },
      "execution_count": null,
      "outputs": []
    },
    {
      "cell_type": "markdown",
      "source": [
        "Splitting our model into testing and training datasets."
      ],
      "metadata": {
        "id": "A27vXLmJtc2b"
      }
    },
    {
      "cell_type": "code",
      "source": [
        "x_train, x_test, y_train, y_test = train_test_split(x, y, test_size = 0.3)\n"
      ],
      "metadata": {
        "execution": {
          "iopub.status.busy": "2023-09-12T09:22:41.470542Z",
          "iopub.execute_input": "2023-09-12T09:22:41.470969Z",
          "iopub.status.idle": "2023-09-12T09:22:41.484683Z",
          "shell.execute_reply.started": "2023-09-12T09:22:41.470932Z",
          "shell.execute_reply": "2023-09-12T09:22:41.483190Z"
        },
        "trusted": true,
        "id": "xgPVUYOqtc2b"
      },
      "execution_count": null,
      "outputs": []
    },
    {
      "cell_type": "markdown",
      "source": [
        "Building our model and making predictions with random tree."
      ],
      "metadata": {
        "id": "IJvEFiS1tc2c"
      }
    },
    {
      "cell_type": "code",
      "source": [
        "dtc = DecisionTreeClassifier()\n",
        "\n",
        "dtc.fit(x_train, y_train)\n",
        "\n",
        "y_pred = dtc.predict(x_test)"
      ],
      "metadata": {
        "execution": {
          "iopub.status.busy": "2023-09-12T09:22:41.486140Z",
          "iopub.execute_input": "2023-09-12T09:22:41.486772Z",
          "iopub.status.idle": "2023-09-12T09:22:41.501894Z",
          "shell.execute_reply.started": "2023-09-12T09:22:41.486723Z",
          "shell.execute_reply": "2023-09-12T09:22:41.500656Z"
        },
        "trusted": true,
        "id": "LM-oKMGLtc2d"
      },
      "execution_count": null,
      "outputs": []
    },
    {
      "cell_type": "code",
      "source": [
        "print('Accuracy Score - ',  accuracy_score(y_test, y_pred))\n",
        ""
      ],
      "metadata": {
        "execution": {
          "iopub.status.busy": "2023-09-12T09:22:41.504141Z",
          "iopub.execute_input": "2023-09-12T09:22:41.504921Z",
          "iopub.status.idle": "2023-09-12T09:22:41.512440Z",
          "shell.execute_reply.started": "2023-09-12T09:22:41.504883Z",
          "shell.execute_reply": "2023-09-12T09:22:41.511536Z"
        },
        "trusted": true,
        "id": "8N_fZy7ltc2f",
        "outputId": "7bfbe342-6816-40b4-e4cd-9475bfdde935"
      },
      "execution_count": null,
      "outputs": [
        {
          "name": "stdout",
          "text": "Accuracy Score -  1.0\n",
          "output_type": "stream"
        }
      ]
    },
    {
      "cell_type": "markdown",
      "source": [
        "Building our model and making predictions with random forest."
      ],
      "metadata": {
        "id": "tUzgcTDQtc2g"
      }
    },
    {
      "cell_type": "code",
      "source": [
        "rf = RandomForestClassifier(n_estimators=200)\n",
        "\n",
        "rf.fit(x_train, y_train)\n",
        "\n",
        "y_pred = rf.predict(x_test)"
      ],
      "metadata": {
        "execution": {
          "iopub.status.busy": "2023-09-12T09:22:41.513736Z",
          "iopub.execute_input": "2023-09-12T09:22:41.514170Z",
          "iopub.status.idle": "2023-09-12T09:22:41.969629Z",
          "shell.execute_reply.started": "2023-09-12T09:22:41.514137Z",
          "shell.execute_reply": "2023-09-12T09:22:41.968315Z"
        },
        "trusted": true,
        "id": "Bod6ha7stc2g"
      },
      "execution_count": null,
      "outputs": []
    },
    {
      "cell_type": "code",
      "source": [
        "print('Accuracy Score - ',  accuracy_score(y_test, y_pred))\n",
        ""
      ],
      "metadata": {
        "execution": {
          "iopub.status.busy": "2023-09-12T09:22:41.971268Z",
          "iopub.execute_input": "2023-09-12T09:22:41.972209Z",
          "iopub.status.idle": "2023-09-12T09:22:41.979895Z",
          "shell.execute_reply.started": "2023-09-12T09:22:41.972172Z",
          "shell.execute_reply": "2023-09-12T09:22:41.978447Z"
        },
        "trusted": true,
        "id": "hLMHiS25tc2h",
        "outputId": "e27faa17-9da9-404b-f120-40305d6cbb14"
      },
      "execution_count": null,
      "outputs": [
        {
          "name": "stdout",
          "text": "Accuracy Score -  0.9935064935064936\n",
          "output_type": "stream"
        }
      ]
    },
    {
      "cell_type": "markdown",
      "source": [
        "Both the above models give us a great accuracy score however, we observe that decision tree classifier model gives us a better accuracy."
      ],
      "metadata": {
        "id": "k7k0uKTBtc2i"
      }
    }
  ]
}